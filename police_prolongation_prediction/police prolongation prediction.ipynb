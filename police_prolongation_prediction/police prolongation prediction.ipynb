{
 "cells": [
  {
   "cell_type": "code",
   "execution_count": 1,
   "metadata": {},
   "outputs": [],
   "source": [
    "import numpy as np\n",
    "import pandas as pd\n",
    "import scipy\n",
    "from matplotlib import pyplot\n",
    "import xgboost as xgb\n",
    "from sklearn.model_selection import train_test_split\n",
    "from sklearn.model_selection import cross_val_score\n",
    "from sklearn.model_selection import GridSearchCV\n",
    "from sklearn.model_selection import RandomizedSearchCV\n",
    "from sklearn.metrics import accuracy_score\n",
    "from scipy import sparse\n",
    "\n",
    "pd.options.display.float_format = '{:.2f}'.format\n",
    "pd.options.display.max_rows = 20"
   ]
  },
  {
   "cell_type": "markdown",
   "metadata": {},
   "source": [
    "Загружаем датасет, делим на тренировочную и тестовую выборки"
   ]
  },
  {
   "cell_type": "code",
   "execution_count": 2,
   "metadata": {},
   "outputs": [],
   "source": [
    "data = pd.read_csv(\"D:/renessans.txt\", delimiter=';', index_col='POLICY_ID')\n",
    "train_df = data[data['DATA_TYPE']=='TRAIN'].drop('DATA_TYPE', axis=1)\n",
    "test_df = data[data['DATA_TYPE']=='TEST '].drop('DATA_TYPE', axis=1)\n",
    "x_train = train_df.drop('POLICY_IS_RENEWED', axis=1)\n",
    "y_train = train_df['POLICY_IS_RENEWED']\n",
    "x_test = test_df.drop('POLICY_IS_RENEWED', axis=1)"
   ]
  },
  {
   "cell_type": "markdown",
   "metadata": {},
   "source": [
    "Посмотрим на корелляционную матрицу признаков"
   ]
  },
  {
   "cell_type": "code",
   "execution_count": 3,
   "metadata": {},
   "outputs": [
    {
     "data": {
      "text/html": [
       "<div>\n",
       "<style scoped>\n",
       "    .dataframe tbody tr th:only-of-type {\n",
       "        vertical-align: middle;\n",
       "    }\n",
       "\n",
       "    .dataframe tbody tr th {\n",
       "        vertical-align: top;\n",
       "    }\n",
       "\n",
       "    .dataframe thead th {\n",
       "        text-align: right;\n",
       "    }\n",
       "</style>\n",
       "<table border=\"1\" class=\"dataframe\">\n",
       "  <thead>\n",
       "    <tr style=\"text-align: right;\">\n",
       "      <th></th>\n",
       "      <th>POLICY_BEGIN_MONTH</th>\n",
       "      <th>POLICY_END_MONTH</th>\n",
       "      <th>POLICY_SALES_CHANNEL</th>\n",
       "      <th>POLICY_SALES_CHANNEL_GROUP</th>\n",
       "      <th>POLICY_MIN_AGE</th>\n",
       "      <th>POLICY_MIN_DRIVING_EXPERIENCE</th>\n",
       "      <th>VEHICLE_ENGINE_POWER</th>\n",
       "      <th>VEHICLE_IN_CREDIT</th>\n",
       "      <th>VEHICLE_SUM_INSURED</th>\n",
       "      <th>CLIENT_HAS_DAGO</th>\n",
       "      <th>CLIENT_HAS_OSAGO</th>\n",
       "      <th>POLICY_COURT_SIGN</th>\n",
       "      <th>CLAIM_AVG_ACC_ST_PRD</th>\n",
       "      <th>POLICY_HAS_COMPLAINTS</th>\n",
       "      <th>POLICY_DEDUCT_VALUE</th>\n",
       "      <th>POLICY_PRICE_CHANGE</th>\n",
       "    </tr>\n",
       "  </thead>\n",
       "  <tbody>\n",
       "    <tr>\n",
       "      <th>POLICY_BEGIN_MONTH</th>\n",
       "      <td>1.00</td>\n",
       "      <td>1.00</td>\n",
       "      <td>0.01</td>\n",
       "      <td>0.02</td>\n",
       "      <td>-0.01</td>\n",
       "      <td>0.02</td>\n",
       "      <td>0.02</td>\n",
       "      <td>0.07</td>\n",
       "      <td>0.05</td>\n",
       "      <td>-0.02</td>\n",
       "      <td>-0.01</td>\n",
       "      <td>-0.00</td>\n",
       "      <td>0.02</td>\n",
       "      <td>0.00</td>\n",
       "      <td>-0.06</td>\n",
       "      <td>0.00</td>\n",
       "    </tr>\n",
       "    <tr>\n",
       "      <th>POLICY_END_MONTH</th>\n",
       "      <td>1.00</td>\n",
       "      <td>1.00</td>\n",
       "      <td>0.01</td>\n",
       "      <td>0.02</td>\n",
       "      <td>-0.01</td>\n",
       "      <td>0.02</td>\n",
       "      <td>0.02</td>\n",
       "      <td>0.07</td>\n",
       "      <td>0.06</td>\n",
       "      <td>-0.02</td>\n",
       "      <td>-0.01</td>\n",
       "      <td>-0.00</td>\n",
       "      <td>0.02</td>\n",
       "      <td>0.00</td>\n",
       "      <td>-0.06</td>\n",
       "      <td>0.00</td>\n",
       "    </tr>\n",
       "    <tr>\n",
       "      <th>POLICY_SALES_CHANNEL</th>\n",
       "      <td>0.01</td>\n",
       "      <td>0.01</td>\n",
       "      <td>1.00</td>\n",
       "      <td>0.69</td>\n",
       "      <td>0.03</td>\n",
       "      <td>0.01</td>\n",
       "      <td>-0.08</td>\n",
       "      <td>0.13</td>\n",
       "      <td>-0.03</td>\n",
       "      <td>-0.08</td>\n",
       "      <td>-0.15</td>\n",
       "      <td>0.00</td>\n",
       "      <td>0.01</td>\n",
       "      <td>0.01</td>\n",
       "      <td>-0.03</td>\n",
       "      <td>-0.05</td>\n",
       "    </tr>\n",
       "    <tr>\n",
       "      <th>POLICY_SALES_CHANNEL_GROUP</th>\n",
       "      <td>0.02</td>\n",
       "      <td>0.02</td>\n",
       "      <td>0.69</td>\n",
       "      <td>1.00</td>\n",
       "      <td>0.02</td>\n",
       "      <td>0.02</td>\n",
       "      <td>-0.02</td>\n",
       "      <td>0.17</td>\n",
       "      <td>0.05</td>\n",
       "      <td>-0.07</td>\n",
       "      <td>-0.17</td>\n",
       "      <td>-0.01</td>\n",
       "      <td>0.01</td>\n",
       "      <td>-0.00</td>\n",
       "      <td>-0.07</td>\n",
       "      <td>-0.07</td>\n",
       "    </tr>\n",
       "    <tr>\n",
       "      <th>POLICY_MIN_AGE</th>\n",
       "      <td>-0.01</td>\n",
       "      <td>-0.01</td>\n",
       "      <td>0.03</td>\n",
       "      <td>0.02</td>\n",
       "      <td>1.00</td>\n",
       "      <td>0.03</td>\n",
       "      <td>-0.06</td>\n",
       "      <td>-0.08</td>\n",
       "      <td>-0.05</td>\n",
       "      <td>-0.09</td>\n",
       "      <td>-0.02</td>\n",
       "      <td>-0.02</td>\n",
       "      <td>-0.03</td>\n",
       "      <td>-0.02</td>\n",
       "      <td>-0.16</td>\n",
       "      <td>-0.02</td>\n",
       "    </tr>\n",
       "    <tr>\n",
       "      <th>POLICY_MIN_DRIVING_EXPERIENCE</th>\n",
       "      <td>0.02</td>\n",
       "      <td>0.02</td>\n",
       "      <td>0.01</td>\n",
       "      <td>0.02</td>\n",
       "      <td>0.03</td>\n",
       "      <td>1.00</td>\n",
       "      <td>-0.00</td>\n",
       "      <td>0.03</td>\n",
       "      <td>0.05</td>\n",
       "      <td>-0.04</td>\n",
       "      <td>-0.01</td>\n",
       "      <td>-0.00</td>\n",
       "      <td>-0.01</td>\n",
       "      <td>-0.00</td>\n",
       "      <td>0.04</td>\n",
       "      <td>-0.01</td>\n",
       "    </tr>\n",
       "    <tr>\n",
       "      <th>VEHICLE_ENGINE_POWER</th>\n",
       "      <td>0.02</td>\n",
       "      <td>0.02</td>\n",
       "      <td>-0.08</td>\n",
       "      <td>-0.02</td>\n",
       "      <td>-0.06</td>\n",
       "      <td>-0.00</td>\n",
       "      <td>1.00</td>\n",
       "      <td>-0.06</td>\n",
       "      <td>0.78</td>\n",
       "      <td>0.04</td>\n",
       "      <td>-0.07</td>\n",
       "      <td>0.01</td>\n",
       "      <td>0.00</td>\n",
       "      <td>0.01</td>\n",
       "      <td>-0.04</td>\n",
       "      <td>0.04</td>\n",
       "    </tr>\n",
       "    <tr>\n",
       "      <th>VEHICLE_IN_CREDIT</th>\n",
       "      <td>0.07</td>\n",
       "      <td>0.07</td>\n",
       "      <td>0.13</td>\n",
       "      <td>0.17</td>\n",
       "      <td>-0.08</td>\n",
       "      <td>0.03</td>\n",
       "      <td>-0.06</td>\n",
       "      <td>1.00</td>\n",
       "      <td>-0.00</td>\n",
       "      <td>-0.13</td>\n",
       "      <td>-0.08</td>\n",
       "      <td>0.01</td>\n",
       "      <td>0.05</td>\n",
       "      <td>0.00</td>\n",
       "      <td>-0.11</td>\n",
       "      <td>-0.04</td>\n",
       "    </tr>\n",
       "    <tr>\n",
       "      <th>VEHICLE_SUM_INSURED</th>\n",
       "      <td>0.05</td>\n",
       "      <td>0.06</td>\n",
       "      <td>-0.03</td>\n",
       "      <td>0.05</td>\n",
       "      <td>-0.05</td>\n",
       "      <td>0.05</td>\n",
       "      <td>0.78</td>\n",
       "      <td>-0.00</td>\n",
       "      <td>1.00</td>\n",
       "      <td>-0.01</td>\n",
       "      <td>-0.11</td>\n",
       "      <td>0.02</td>\n",
       "      <td>0.01</td>\n",
       "      <td>0.01</td>\n",
       "      <td>-0.06</td>\n",
       "      <td>0.02</td>\n",
       "    </tr>\n",
       "    <tr>\n",
       "      <th>CLIENT_HAS_DAGO</th>\n",
       "      <td>-0.02</td>\n",
       "      <td>-0.02</td>\n",
       "      <td>-0.08</td>\n",
       "      <td>-0.07</td>\n",
       "      <td>-0.09</td>\n",
       "      <td>-0.04</td>\n",
       "      <td>0.04</td>\n",
       "      <td>-0.13</td>\n",
       "      <td>-0.01</td>\n",
       "      <td>1.00</td>\n",
       "      <td>0.22</td>\n",
       "      <td>0.00</td>\n",
       "      <td>-0.00</td>\n",
       "      <td>0.01</td>\n",
       "      <td>0.01</td>\n",
       "      <td>-0.01</td>\n",
       "    </tr>\n",
       "    <tr>\n",
       "      <th>CLIENT_HAS_OSAGO</th>\n",
       "      <td>-0.01</td>\n",
       "      <td>-0.01</td>\n",
       "      <td>-0.15</td>\n",
       "      <td>-0.17</td>\n",
       "      <td>-0.02</td>\n",
       "      <td>-0.01</td>\n",
       "      <td>-0.07</td>\n",
       "      <td>-0.08</td>\n",
       "      <td>-0.11</td>\n",
       "      <td>0.22</td>\n",
       "      <td>1.00</td>\n",
       "      <td>-0.00</td>\n",
       "      <td>-0.01</td>\n",
       "      <td>0.01</td>\n",
       "      <td>0.00</td>\n",
       "      <td>0.02</td>\n",
       "    </tr>\n",
       "    <tr>\n",
       "      <th>POLICY_COURT_SIGN</th>\n",
       "      <td>-0.00</td>\n",
       "      <td>-0.00</td>\n",
       "      <td>0.00</td>\n",
       "      <td>-0.01</td>\n",
       "      <td>-0.02</td>\n",
       "      <td>-0.00</td>\n",
       "      <td>0.01</td>\n",
       "      <td>0.01</td>\n",
       "      <td>0.02</td>\n",
       "      <td>0.00</td>\n",
       "      <td>-0.00</td>\n",
       "      <td>1.00</td>\n",
       "      <td>0.04</td>\n",
       "      <td>0.04</td>\n",
       "      <td>0.00</td>\n",
       "      <td>0.00</td>\n",
       "    </tr>\n",
       "    <tr>\n",
       "      <th>CLAIM_AVG_ACC_ST_PRD</th>\n",
       "      <td>0.02</td>\n",
       "      <td>0.02</td>\n",
       "      <td>0.01</td>\n",
       "      <td>0.01</td>\n",
       "      <td>-0.03</td>\n",
       "      <td>-0.01</td>\n",
       "      <td>0.00</td>\n",
       "      <td>0.05</td>\n",
       "      <td>0.01</td>\n",
       "      <td>-0.00</td>\n",
       "      <td>-0.01</td>\n",
       "      <td>0.04</td>\n",
       "      <td>1.00</td>\n",
       "      <td>0.05</td>\n",
       "      <td>-0.05</td>\n",
       "      <td>0.01</td>\n",
       "    </tr>\n",
       "    <tr>\n",
       "      <th>POLICY_HAS_COMPLAINTS</th>\n",
       "      <td>0.00</td>\n",
       "      <td>0.00</td>\n",
       "      <td>0.01</td>\n",
       "      <td>-0.00</td>\n",
       "      <td>-0.02</td>\n",
       "      <td>-0.00</td>\n",
       "      <td>0.01</td>\n",
       "      <td>0.00</td>\n",
       "      <td>0.01</td>\n",
       "      <td>0.01</td>\n",
       "      <td>0.01</td>\n",
       "      <td>0.04</td>\n",
       "      <td>0.05</td>\n",
       "      <td>1.00</td>\n",
       "      <td>-0.01</td>\n",
       "      <td>0.00</td>\n",
       "    </tr>\n",
       "    <tr>\n",
       "      <th>POLICY_DEDUCT_VALUE</th>\n",
       "      <td>-0.06</td>\n",
       "      <td>-0.06</td>\n",
       "      <td>-0.03</td>\n",
       "      <td>-0.07</td>\n",
       "      <td>-0.16</td>\n",
       "      <td>0.04</td>\n",
       "      <td>-0.04</td>\n",
       "      <td>-0.11</td>\n",
       "      <td>-0.06</td>\n",
       "      <td>0.01</td>\n",
       "      <td>0.00</td>\n",
       "      <td>0.00</td>\n",
       "      <td>-0.05</td>\n",
       "      <td>-0.01</td>\n",
       "      <td>1.00</td>\n",
       "      <td>-0.04</td>\n",
       "    </tr>\n",
       "    <tr>\n",
       "      <th>POLICY_PRICE_CHANGE</th>\n",
       "      <td>0.00</td>\n",
       "      <td>0.00</td>\n",
       "      <td>-0.05</td>\n",
       "      <td>-0.07</td>\n",
       "      <td>-0.02</td>\n",
       "      <td>-0.01</td>\n",
       "      <td>0.04</td>\n",
       "      <td>-0.04</td>\n",
       "      <td>0.02</td>\n",
       "      <td>-0.01</td>\n",
       "      <td>0.02</td>\n",
       "      <td>0.00</td>\n",
       "      <td>0.01</td>\n",
       "      <td>0.00</td>\n",
       "      <td>-0.04</td>\n",
       "      <td>1.00</td>\n",
       "    </tr>\n",
       "  </tbody>\n",
       "</table>\n",
       "</div>"
      ],
      "text/plain": [
       "                               POLICY_BEGIN_MONTH  POLICY_END_MONTH  \\\n",
       "POLICY_BEGIN_MONTH                           1.00              1.00   \n",
       "POLICY_END_MONTH                             1.00              1.00   \n",
       "POLICY_SALES_CHANNEL                         0.01              0.01   \n",
       "POLICY_SALES_CHANNEL_GROUP                   0.02              0.02   \n",
       "POLICY_MIN_AGE                              -0.01             -0.01   \n",
       "POLICY_MIN_DRIVING_EXPERIENCE                0.02              0.02   \n",
       "VEHICLE_ENGINE_POWER                         0.02              0.02   \n",
       "VEHICLE_IN_CREDIT                            0.07              0.07   \n",
       "VEHICLE_SUM_INSURED                          0.05              0.06   \n",
       "CLIENT_HAS_DAGO                             -0.02             -0.02   \n",
       "CLIENT_HAS_OSAGO                            -0.01             -0.01   \n",
       "POLICY_COURT_SIGN                           -0.00             -0.00   \n",
       "CLAIM_AVG_ACC_ST_PRD                         0.02              0.02   \n",
       "POLICY_HAS_COMPLAINTS                        0.00              0.00   \n",
       "POLICY_DEDUCT_VALUE                         -0.06             -0.06   \n",
       "POLICY_PRICE_CHANGE                          0.00              0.00   \n",
       "\n",
       "                               POLICY_SALES_CHANNEL  \\\n",
       "POLICY_BEGIN_MONTH                             0.01   \n",
       "POLICY_END_MONTH                               0.01   \n",
       "POLICY_SALES_CHANNEL                           1.00   \n",
       "POLICY_SALES_CHANNEL_GROUP                     0.69   \n",
       "POLICY_MIN_AGE                                 0.03   \n",
       "POLICY_MIN_DRIVING_EXPERIENCE                  0.01   \n",
       "VEHICLE_ENGINE_POWER                          -0.08   \n",
       "VEHICLE_IN_CREDIT                              0.13   \n",
       "VEHICLE_SUM_INSURED                           -0.03   \n",
       "CLIENT_HAS_DAGO                               -0.08   \n",
       "CLIENT_HAS_OSAGO                              -0.15   \n",
       "POLICY_COURT_SIGN                              0.00   \n",
       "CLAIM_AVG_ACC_ST_PRD                           0.01   \n",
       "POLICY_HAS_COMPLAINTS                          0.01   \n",
       "POLICY_DEDUCT_VALUE                           -0.03   \n",
       "POLICY_PRICE_CHANGE                           -0.05   \n",
       "\n",
       "                               POLICY_SALES_CHANNEL_GROUP  POLICY_MIN_AGE  \\\n",
       "POLICY_BEGIN_MONTH                                   0.02           -0.01   \n",
       "POLICY_END_MONTH                                     0.02           -0.01   \n",
       "POLICY_SALES_CHANNEL                                 0.69            0.03   \n",
       "POLICY_SALES_CHANNEL_GROUP                           1.00            0.02   \n",
       "POLICY_MIN_AGE                                       0.02            1.00   \n",
       "POLICY_MIN_DRIVING_EXPERIENCE                        0.02            0.03   \n",
       "VEHICLE_ENGINE_POWER                                -0.02           -0.06   \n",
       "VEHICLE_IN_CREDIT                                    0.17           -0.08   \n",
       "VEHICLE_SUM_INSURED                                  0.05           -0.05   \n",
       "CLIENT_HAS_DAGO                                     -0.07           -0.09   \n",
       "CLIENT_HAS_OSAGO                                    -0.17           -0.02   \n",
       "POLICY_COURT_SIGN                                   -0.01           -0.02   \n",
       "CLAIM_AVG_ACC_ST_PRD                                 0.01           -0.03   \n",
       "POLICY_HAS_COMPLAINTS                               -0.00           -0.02   \n",
       "POLICY_DEDUCT_VALUE                                 -0.07           -0.16   \n",
       "POLICY_PRICE_CHANGE                                 -0.07           -0.02   \n",
       "\n",
       "                               POLICY_MIN_DRIVING_EXPERIENCE  \\\n",
       "POLICY_BEGIN_MONTH                                      0.02   \n",
       "POLICY_END_MONTH                                        0.02   \n",
       "POLICY_SALES_CHANNEL                                    0.01   \n",
       "POLICY_SALES_CHANNEL_GROUP                              0.02   \n",
       "POLICY_MIN_AGE                                          0.03   \n",
       "POLICY_MIN_DRIVING_EXPERIENCE                           1.00   \n",
       "VEHICLE_ENGINE_POWER                                   -0.00   \n",
       "VEHICLE_IN_CREDIT                                       0.03   \n",
       "VEHICLE_SUM_INSURED                                     0.05   \n",
       "CLIENT_HAS_DAGO                                        -0.04   \n",
       "CLIENT_HAS_OSAGO                                       -0.01   \n",
       "POLICY_COURT_SIGN                                      -0.00   \n",
       "CLAIM_AVG_ACC_ST_PRD                                   -0.01   \n",
       "POLICY_HAS_COMPLAINTS                                  -0.00   \n",
       "POLICY_DEDUCT_VALUE                                     0.04   \n",
       "POLICY_PRICE_CHANGE                                    -0.01   \n",
       "\n",
       "                               VEHICLE_ENGINE_POWER  VEHICLE_IN_CREDIT  \\\n",
       "POLICY_BEGIN_MONTH                             0.02               0.07   \n",
       "POLICY_END_MONTH                               0.02               0.07   \n",
       "POLICY_SALES_CHANNEL                          -0.08               0.13   \n",
       "POLICY_SALES_CHANNEL_GROUP                    -0.02               0.17   \n",
       "POLICY_MIN_AGE                                -0.06              -0.08   \n",
       "POLICY_MIN_DRIVING_EXPERIENCE                 -0.00               0.03   \n",
       "VEHICLE_ENGINE_POWER                           1.00              -0.06   \n",
       "VEHICLE_IN_CREDIT                             -0.06               1.00   \n",
       "VEHICLE_SUM_INSURED                            0.78              -0.00   \n",
       "CLIENT_HAS_DAGO                                0.04              -0.13   \n",
       "CLIENT_HAS_OSAGO                              -0.07              -0.08   \n",
       "POLICY_COURT_SIGN                              0.01               0.01   \n",
       "CLAIM_AVG_ACC_ST_PRD                           0.00               0.05   \n",
       "POLICY_HAS_COMPLAINTS                          0.01               0.00   \n",
       "POLICY_DEDUCT_VALUE                           -0.04              -0.11   \n",
       "POLICY_PRICE_CHANGE                            0.04              -0.04   \n",
       "\n",
       "                               VEHICLE_SUM_INSURED  CLIENT_HAS_DAGO  \\\n",
       "POLICY_BEGIN_MONTH                            0.05            -0.02   \n",
       "POLICY_END_MONTH                              0.06            -0.02   \n",
       "POLICY_SALES_CHANNEL                         -0.03            -0.08   \n",
       "POLICY_SALES_CHANNEL_GROUP                    0.05            -0.07   \n",
       "POLICY_MIN_AGE                               -0.05            -0.09   \n",
       "POLICY_MIN_DRIVING_EXPERIENCE                 0.05            -0.04   \n",
       "VEHICLE_ENGINE_POWER                          0.78             0.04   \n",
       "VEHICLE_IN_CREDIT                            -0.00            -0.13   \n",
       "VEHICLE_SUM_INSURED                           1.00            -0.01   \n",
       "CLIENT_HAS_DAGO                              -0.01             1.00   \n",
       "CLIENT_HAS_OSAGO                             -0.11             0.22   \n",
       "POLICY_COURT_SIGN                             0.02             0.00   \n",
       "CLAIM_AVG_ACC_ST_PRD                          0.01            -0.00   \n",
       "POLICY_HAS_COMPLAINTS                         0.01             0.01   \n",
       "POLICY_DEDUCT_VALUE                          -0.06             0.01   \n",
       "POLICY_PRICE_CHANGE                           0.02            -0.01   \n",
       "\n",
       "                               CLIENT_HAS_OSAGO  POLICY_COURT_SIGN  \\\n",
       "POLICY_BEGIN_MONTH                        -0.01              -0.00   \n",
       "POLICY_END_MONTH                          -0.01              -0.00   \n",
       "POLICY_SALES_CHANNEL                      -0.15               0.00   \n",
       "POLICY_SALES_CHANNEL_GROUP                -0.17              -0.01   \n",
       "POLICY_MIN_AGE                            -0.02              -0.02   \n",
       "POLICY_MIN_DRIVING_EXPERIENCE             -0.01              -0.00   \n",
       "VEHICLE_ENGINE_POWER                      -0.07               0.01   \n",
       "VEHICLE_IN_CREDIT                         -0.08               0.01   \n",
       "VEHICLE_SUM_INSURED                       -0.11               0.02   \n",
       "CLIENT_HAS_DAGO                            0.22               0.00   \n",
       "CLIENT_HAS_OSAGO                           1.00              -0.00   \n",
       "POLICY_COURT_SIGN                         -0.00               1.00   \n",
       "CLAIM_AVG_ACC_ST_PRD                      -0.01               0.04   \n",
       "POLICY_HAS_COMPLAINTS                      0.01               0.04   \n",
       "POLICY_DEDUCT_VALUE                        0.00               0.00   \n",
       "POLICY_PRICE_CHANGE                        0.02               0.00   \n",
       "\n",
       "                               CLAIM_AVG_ACC_ST_PRD  POLICY_HAS_COMPLAINTS  \\\n",
       "POLICY_BEGIN_MONTH                             0.02                   0.00   \n",
       "POLICY_END_MONTH                               0.02                   0.00   \n",
       "POLICY_SALES_CHANNEL                           0.01                   0.01   \n",
       "POLICY_SALES_CHANNEL_GROUP                     0.01                  -0.00   \n",
       "POLICY_MIN_AGE                                -0.03                  -0.02   \n",
       "POLICY_MIN_DRIVING_EXPERIENCE                 -0.01                  -0.00   \n",
       "VEHICLE_ENGINE_POWER                           0.00                   0.01   \n",
       "VEHICLE_IN_CREDIT                              0.05                   0.00   \n",
       "VEHICLE_SUM_INSURED                            0.01                   0.01   \n",
       "CLIENT_HAS_DAGO                               -0.00                   0.01   \n",
       "CLIENT_HAS_OSAGO                              -0.01                   0.01   \n",
       "POLICY_COURT_SIGN                              0.04                   0.04   \n",
       "CLAIM_AVG_ACC_ST_PRD                           1.00                   0.05   \n",
       "POLICY_HAS_COMPLAINTS                          0.05                   1.00   \n",
       "POLICY_DEDUCT_VALUE                           -0.05                  -0.01   \n",
       "POLICY_PRICE_CHANGE                            0.01                   0.00   \n",
       "\n",
       "                               POLICY_DEDUCT_VALUE  POLICY_PRICE_CHANGE  \n",
       "POLICY_BEGIN_MONTH                           -0.06                 0.00  \n",
       "POLICY_END_MONTH                             -0.06                 0.00  \n",
       "POLICY_SALES_CHANNEL                         -0.03                -0.05  \n",
       "POLICY_SALES_CHANNEL_GROUP                   -0.07                -0.07  \n",
       "POLICY_MIN_AGE                               -0.16                -0.02  \n",
       "POLICY_MIN_DRIVING_EXPERIENCE                 0.04                -0.01  \n",
       "VEHICLE_ENGINE_POWER                         -0.04                 0.04  \n",
       "VEHICLE_IN_CREDIT                            -0.11                -0.04  \n",
       "VEHICLE_SUM_INSURED                          -0.06                 0.02  \n",
       "CLIENT_HAS_DAGO                               0.01                -0.01  \n",
       "CLIENT_HAS_OSAGO                              0.00                 0.02  \n",
       "POLICY_COURT_SIGN                             0.00                 0.00  \n",
       "CLAIM_AVG_ACC_ST_PRD                         -0.05                 0.01  \n",
       "POLICY_HAS_COMPLAINTS                        -0.01                 0.00  \n",
       "POLICY_DEDUCT_VALUE                           1.00                -0.04  \n",
       "POLICY_PRICE_CHANGE                          -0.04                 1.00  "
      ]
     },
     "execution_count": 3,
     "metadata": {},
     "output_type": "execute_result"
    }
   ],
   "source": [
    "x_train.corr()"
   ]
  },
  {
   "cell_type": "markdown",
   "metadata": {},
   "source": [
    "Ввиду сильной корелляции между признаками POLICY_BEGIN_MONTH и POLICY_END_MONTH, можно сделать вывод, что полисы в подавляющем большинстве выдаются на целое число лет. В то же время, сезон выдачи полиса вряд ли как-то влияет на принятие клиентом решения о продлении полиса, так что данные признаки рассматривать не будем."
   ]
  },
  {
   "cell_type": "code",
   "execution_count": 4,
   "metadata": {},
   "outputs": [],
   "source": [
    "x_train = x_train.drop(['POLICY_END_MONTH', 'POLICY_BEGIN_MONTH'], axis=1)"
   ]
  },
  {
   "cell_type": "code",
   "execution_count": 5,
   "metadata": {},
   "outputs": [
    {
     "name": "stdout",
     "output_type": "stream",
     "text": [
      "[39 50 52  2 10 53  1  6 55 17 54 20 23 59 15 40  8 41 14 11 62 60 46  5\n",
      " 22 31 51  3 25 27 16 45  4 13 18 26 44  7 29 28  9 47 49 38 35 12 57 21\n",
      " 63 19 43 24 30 34 32 33 61 42 36 48 37 58 56]\n",
      "[1 5 6 4 3 8 7 2]\n"
     ]
    }
   ],
   "source": [
    "print(x_train['POLICY_SALES_CHANNEL'].unique())\n",
    "print(x_train['POLICY_SALES_CHANNEL_GROUP'].unique())"
   ]
  },
  {
   "cell_type": "markdown",
   "metadata": {},
   "source": [
    "POLICY_SALES_CHANNEL, POLICY_SALES_CHANNEL_GROUP - категориальные признаки. POLICY_SALES_CHANNEL принимает достаточно много различных значений, при этом POLICY_SALES_CHANNEL_GROUP - это сгруппированные значения данного признака. В связи с этим POLICY_SALES_CHANNEL рассматривать нне будем, а  POLICY_SALES_CHANNEL_GROUP необходимо будет разбить на несколько признаков по категориям, используя one hot encoding."
   ]
  },
  {
   "cell_type": "code",
   "execution_count": 6,
   "metadata": {},
   "outputs": [],
   "source": [
    "x_train = x_train.drop(['POLICY_SALES_CHANNEL'], axis=1)"
   ]
  },
  {
   "cell_type": "code",
   "execution_count": 7,
   "metadata": {},
   "outputs": [
    {
     "name": "stdout",
     "output_type": "stream",
     "text": [
      "['Москва' 'Санкт-Петербург']\n"
     ]
    }
   ],
   "source": [
    "print(x_train['POLICY_BRANCH'].unique())"
   ]
  },
  {
   "cell_type": "markdown",
   "metadata": {},
   "source": [
    "POLICY_BRANCH - категориальный признак, принимающий 2 значения. Закодируем значения признака числами"
   ]
  },
  {
   "cell_type": "code",
   "execution_count": 8,
   "metadata": {},
   "outputs": [],
   "source": [
    "x_train['POLICY_BRANCH'] = [0 if (x == 'Москва') else 1 for x in x_train['POLICY_BRANCH'].values]"
   ]
  },
  {
   "cell_type": "code",
   "execution_count": 9,
   "metadata": {},
   "outputs": [
    {
     "name": "stdout",
     "output_type": "stream",
     "text": [
      "[51 35 41 36 42 60 48 27 38 39 64 56 47 44 40 49 50 53 31 32 30 33 62 28\n",
      " 58 26 63 34 25 29 24 45 66 54 37 61 23 52 55 57 46 43 67 59 69 68 75 22\n",
      " 78 18 76 74 65 80 72 19 73 77 71 20 79 70 21 86 82 81 83 84]\n"
     ]
    }
   ],
   "source": [
    "print(x_train['POLICY_MIN_AGE'].unique())"
   ]
  },
  {
   "cell_type": "markdown",
   "metadata": {},
   "source": [
    "POLICY_MIN_AGE - числовой признак. Конкретный возраст вряд ли сильно кореллирует с вероятностью пролонгации полиса. Однако если разбить людей по возрастным группам (например, \"18-25 лет\", \"25-40 лет\", \"40-65 лет\", \"65+ лет\"), можно будет проследить зависимости."
   ]
  },
  {
   "cell_type": "code",
   "execution_count": 10,
   "metadata": {},
   "outputs": [],
   "source": [
    "x_train['AGE_18-25'] = [1 if (x<25) else 0 for x in x_train['POLICY_MIN_AGE'].values]\n",
    "x_train['AGE_25-40'] = [1 if (x>=25)and(x<=40) else 0 for x in x_train['POLICY_MIN_AGE'].values]\n",
    "x_train['AGE_40-65'] = [1 if (x>=40)and(x<65) else 0 for x in x_train['POLICY_MIN_AGE'].values]\n",
    "x_train['AGE_65+'] = [1 if (x>=65) else 0 for x in x_train['POLICY_MIN_AGE'].values]\n",
    "x_train = x_train.drop(['POLICY_MIN_AGE'], axis=1)"
   ]
  },
  {
   "cell_type": "code",
   "execution_count": 11,
   "metadata": {},
   "outputs": [
    {
     "name": "stdout",
     "output_type": "stream",
     "text": [
      "[  12    7    6    5   40   19   18   16    8   11   45   20   17   13\n",
      "   15   28   29    2   42    3   36    9   10   44   23   14   43   21\n",
      "   25   26    4   32   34    1   22   31   24   27   48   30    0   35\n",
      " 1986   33   37 1988   52   41 2008 2002   39 1996 1995 1991   38 1979\n",
      "   47   46 1994 2014 1968 2004 1998 1999 1980   49   58 1984 1992 1990\n",
      " 1976 2000 1989 2006 1974 2003 1997 1993 1981 1973 2005 2010 2011   50\n",
      " 2013 2007   51   53 1987 1969 2009 2001   54 1982   60 1975 1985   55\n",
      " 1978 2015 1977 2012 1962 1983 1972   56   57 1970 1958 1963]\n"
     ]
    }
   ],
   "source": [
    "print(x_train['POLICY_MIN_DRIVING_EXPERIENCE'].unique())"
   ]
  },
  {
   "cell_type": "markdown",
   "metadata": {},
   "source": [
    "POLICY_MIN_DRIVING_EXPERIENCE - числовой признак. Вероятно, в некоторых местах указан год начала вождения вместо опыта.\n",
    "Исправим (будем считать, что данные за 2016 год, судя по времени создания файла с описанием задания). Кроме того, лучше выделить несколько групп водителей с разным стажем, аналогично тому, как это сделано для возраста."
   ]
  },
  {
   "cell_type": "code",
   "execution_count": 12,
   "metadata": {},
   "outputs": [],
   "source": [
    "x_train['POLICY_MIN_DRIVING_EXPERIENCE'] = [(2016-x) if (x > 100) else x for x in x_train['POLICY_MIN_DRIVING_EXPERIENCE'].values]\n",
    "x_train['DRV_EXP_0-3'] = [1 if (x<3) else 0 for x in x_train['POLICY_MIN_DRIVING_EXPERIENCE'].values]\n",
    "x_train['DRV_EXP_3-10'] = [1 if (x>=3) & (x<10) else 0 for x in x_train['POLICY_MIN_DRIVING_EXPERIENCE'].values]\n",
    "x_train['DRV_EXP_10-20'] = [1 if (x>=10) & (x<20) else 0 for x in x_train['POLICY_MIN_DRIVING_EXPERIENCE'].values]\n",
    "x_train['DRV_EXP_20+'] = [1 if (x>=20) else 0 for x in x_train['POLICY_MIN_DRIVING_EXPERIENCE'].values]\n",
    "x_train = x_train.drop(['POLICY_MIN_DRIVING_EXPERIENCE'], axis=1)"
   ]
  },
  {
   "cell_type": "markdown",
   "metadata": {},
   "source": [
    "VEHICLE_MAKE и VEHICLE_MODEL - категориальные признаки. Их кодирование с помощью one hot encoding даст нам большое количество признаков со множеством нулей. Однако решение о пролонгации полиса зависит от марки и модели машины, поэтому попробуем их оставить и применим к ним one hot encoding (результаты тестирования над данными с учетом данных признаков дают прирост оценки accuracy на 0.05, так что оставим их при обучении итоговой модели)"
   ]
  },
  {
   "cell_type": "code",
   "execution_count": 13,
   "metadata": {},
   "outputs": [],
   "source": [
    "#x_train = x_train.drop(['VEHICLE_MAKE', 'VEHICLE_MODEL'], axis=1)"
   ]
  },
  {
   "cell_type": "markdown",
   "metadata": {},
   "source": [
    "VEHICLE_IN_CREDIT - категориальный, значения 0 и 1, оставляем как есть."
   ]
  },
  {
   "cell_type": "markdown",
   "metadata": {},
   "source": [
    "VEHICLE_ENGINE_POWER, VEHICLE_SUM_INSURED - численные, необходимо отмасштабировать"
   ]
  },
  {
   "cell_type": "markdown",
   "metadata": {},
   "source": [
    "POLICY_INTERMEDIARY - категориальный признак с 1333 различных значений. Обойдемся без него."
   ]
  },
  {
   "cell_type": "code",
   "execution_count": 15,
   "metadata": {},
   "outputs": [],
   "source": [
    "x_train = x_train.drop(['POLICY_INTERMEDIARY'], axis=1)"
   ]
  },
  {
   "cell_type": "markdown",
   "metadata": {},
   "source": [
    "INSURER_GENDER - категориальный. 2 значения. Сделаем из него бинарный признак со значениями 0 и 1"
   ]
  },
  {
   "cell_type": "code",
   "execution_count": 16,
   "metadata": {},
   "outputs": [],
   "source": [
    "x_train['INSURER_GENDER'] = [0 if (x == 'M') else 1 for x in x_train['INSURER_GENDER'].values]"
   ]
  },
  {
   "cell_type": "code",
   "execution_count": 17,
   "metadata": {},
   "outputs": [
    {
     "name": "stdout",
     "output_type": "stream",
     "text": [
      "['0' '1S' '1L' '2' '3' '4+' 'n/d']\n",
      "['0' '1S' '1L' '2' '4+' '3' 'n/d']\n",
      "['N' '0' '1L' '1S' '2' '3' '4+']\n",
      "['N' '0' '1L' '1S' '2' '3' '4+']\n"
     ]
    }
   ],
   "source": [
    "print(x_train['POLICY_CLM_N'].unique())\n",
    "print(x_train['POLICY_CLM_GLT_N'].unique())\n",
    "print(x_train['POLICY_PRV_CLM_N'].unique())\n",
    "print(x_train['POLICY_PRV_CLM_GLT_N'].unique())"
   ]
  },
  {
   "cell_type": "markdown",
   "metadata": {},
   "source": [
    "POLICY_CLM_N, POLICY_CLM_GLT_N, POLICY_PRV_CLM_N, POLICY_PRV_CLM_GLT_N - категориальные, необходим one hot encoding\n",
    "В данных признаках неопределенные значения обозначаются по-разному (как N и n/a). Необходимо привести к общему значению."
   ]
  },
  {
   "cell_type": "code",
   "execution_count": 18,
   "metadata": {},
   "outputs": [],
   "source": [
    "x_train['POLICY_CLM_N'] = ['N' if (x=='n/d') else x for x in x_train['POLICY_CLM_N'].values]\n",
    "x_train['POLICY_CLM_GLT_N'] = ['N' if (x=='n/d') else x for x in x_train['POLICY_CLM_GLT_N'].values]"
   ]
  },
  {
   "cell_type": "markdown",
   "metadata": {},
   "source": [
    "CLIENT_HAS_DAGO, CLIENT_HAS_OSAGO, POLICY_COURT_SIGN, POLICY_HAS_COMPLAINTS - бинарные признаки, обработка не требуется"
   ]
  },
  {
   "cell_type": "markdown",
   "metadata": {},
   "source": [
    "CLAIM_AVG_ACC_ST_PRD - числовой, необходимо масштабирование"
   ]
  },
  {
   "cell_type": "markdown",
   "metadata": {},
   "source": [
    "POLICY_YEARS_RENEWED_N - числовой. В 46 примерах не определено значение. Установим для данных примеров значение 1, как наиболее популярный вариант."
   ]
  },
  {
   "cell_type": "code",
   "execution_count": 19,
   "metadata": {},
   "outputs": [],
   "source": [
    "x_train['POLICY_YEARS_RENEWED_N'] = [1 if x=='N' else int(x) for x in x_train['POLICY_YEARS_RENEWED_N'].values]"
   ]
  },
  {
   "cell_type": "markdown",
   "metadata": {},
   "source": [
    "POLICY_DEDUCT_VALUE - числовой, потребуется масштабирование"
   ]
  },
  {
   "cell_type": "markdown",
   "metadata": {},
   "source": [
    "CLIENT_REGISTRATION_REGION - категориальный, 83 значения. One hot encoding"
   ]
  },
  {
   "cell_type": "markdown",
   "metadata": {},
   "source": [
    "POLICY_PRICE_CHANGE - числовой, потребуется масштабирование"
   ]
  },
  {
   "cell_type": "markdown",
   "metadata": {},
   "source": [
    "Применим операции масштабирования и кодирования признаков для тренировочного набора данных:"
   ]
  },
  {
   "cell_type": "code",
   "execution_count": 20,
   "metadata": {},
   "outputs": [],
   "source": [
    "from sklearn.preprocessing import OneHotEncoder\n",
    "from sklearn.preprocessing import MinMaxScaler\n",
    "from sklearn.preprocessing import LabelBinarizer"
   ]
  },
  {
   "cell_type": "code",
   "execution_count": 21,
   "metadata": {},
   "outputs": [],
   "source": [
    "min_max_scaler = MinMaxScaler()\n",
    "one_hot_encoder = OneHotEncoder()\n",
    "label_binarizer = LabelBinarizer()\n",
    "label_binarizer_region = LabelBinarizer()\n",
    "label_binarizer_make = LabelBinarizer()\n",
    "label_binarizer_model = LabelBinarizer()"
   ]
  },
  {
   "cell_type": "code",
   "execution_count": 22,
   "metadata": {},
   "outputs": [],
   "source": [
    "numeric_features = ['VEHICLE_ENGINE_POWER', 'VEHICLE_SUM_INSURED', 'CLAIM_AVG_ACC_ST_PRD',\n",
    "                    'POLICY_YEARS_RENEWED_N',  'POLICY_DEDUCT_VALUE', 'POLICY_PRICE_CHANGE']\n",
    "\n",
    "binary_features = ['POLICY_BRANCH', 'INSURER_GENDER', 'AGE_18-25', 'AGE_25-40', 'AGE_40-65', 'AGE_65+',\n",
    "                   'DRV_EXP_0-3', 'DRV_EXP_3-10', 'DRV_EXP_10-20', 'DRV_EXP_20+',\n",
    "                   'VEHICLE_IN_CREDIT', 'CLIENT_HAS_DAGO', 'CLIENT_HAS_OSAGO',\n",
    "                   'POLICY_COURT_SIGN', 'POLICY_HAS_COMPLAINTS']\n",
    "\n",
    "category_num_features = ['POLICY_SALES_CHANNEL_GROUP'] "
   ]
  },
  {
   "cell_type": "code",
   "execution_count": 23,
   "metadata": {},
   "outputs": [],
   "source": [
    "x_numeric = min_max_scaler.fit_transform(x_train[numeric_features])\n",
    "x_binary = x_train[binary_features]\n",
    "x_num_category = one_hot_encoder.fit_transform(x_train[category_num_features])\n",
    "x_cat_CLM_N = label_binarizer.fit_transform(x_train['POLICY_CLM_N'])\n",
    "x_cat_CLM_GLT_N = label_binarizer.transform(x_train['POLICY_CLM_GLT_N'])\n",
    "x_cat_PRV_CLM_N = label_binarizer.transform(x_train['POLICY_PRV_CLM_N'])\n",
    "x_cat_PRV_CLM_GLT_N = label_binarizer.transform(x_train['POLICY_PRV_CLM_GLT_N'])\n",
    "x_cat_CR_REG = label_binarizer_region.fit_transform(x_train['CLIENT_REGISTRATION_REGION'])\n",
    "x_cat_make = label_binarizer_make.fit_transform(x_train['VEHICLE_MAKE'])\n",
    "x_cat_model = label_binarizer_model.fit_transform(x_train['VEHICLE_MODEL'])"
   ]
  },
  {
   "cell_type": "code",
   "execution_count": 24,
   "metadata": {},
   "outputs": [],
   "source": [
    "x_train_final = sparse.hstack((x_numeric, x_binary, x_num_category, x_cat_CLM_N, \n",
    "                               x_cat_CLM_GLT_N, x_cat_PRV_CLM_N, x_cat_PRV_CLM_GLT_N,\n",
    "                               x_cat_CR_REG, x_cat_make, x_cat_model))"
   ]
  },
  {
   "cell_type": "markdown",
   "metadata": {},
   "source": [
    "Создадим валидационную выборку для отладки модели"
   ]
  },
  {
   "cell_type": "code",
   "execution_count": 25,
   "metadata": {},
   "outputs": [],
   "source": [
    "x_tr, x_val, y_tr, y_val = train_test_split(x_train_final, y_train,  test_size = 0.2, random_state = 1)"
   ]
  },
  {
   "cell_type": "markdown",
   "metadata": {},
   "source": [
    "Обучение модели проводилось несколькими различными классификаторами (логистическая регрессия, случайный лес, градиентный бустинг, нейронная сеть с одним скрытым слоем) с различными параметрами. Качество модели оценивалось по метрике accuracy (т.к. в задании требуется максимизировать кол-во правильно классифицированных объектов, то есть TP+TN). Результаты показали, что лучше всего на имеющихся данных показывает себя градиентный бустинг. Параметры обучения подбирались по сетке. Пример обучения градиентного бустинга показан дальше."
   ]
  },
  {
   "cell_type": "code",
   "execution_count": 26,
   "metadata": {},
   "outputs": [
    {
     "name": "stdout",
     "output_type": "stream",
     "text": [
      "0.7188696003229713 {'colsample_bytree': 0.6, 'max_depth': 8, 'n_estimators': 150}\n"
     ]
    }
   ],
   "source": [
    "params = {'n_estimators': [50,100,150],\n",
    "          'max_depth': [6,8,10],\n",
    "          'colsample_bytree': [0.6,0.8,1]}\n",
    "xgb_classifier = xgb.XGBClassifier(random_state=1)\n",
    "grid_search = GridSearchCV(estimator = xgb_classifier, n_jobs = 2, cv = 4, param_grid = params, \n",
    "                           scoring = 'accuracy')\n",
    "grid_search.fit(x_tr, y_tr)\n",
    "print(grid_search.best_score_, grid_search.best_params_)"
   ]
  },
  {
   "cell_type": "code",
   "execution_count": 27,
   "metadata": {},
   "outputs": [
    {
     "name": "stderr",
     "output_type": "stream",
     "text": [
      "D:\\Anaconda\\lib\\site-packages\\sklearn\\preprocessing\\label.py:151: DeprecationWarning: The truth value of an empty array is ambiguous. Returning False, but in future this will result in an error. Use `array.size > 0` to check that an array is not empty.\n",
      "  if diff:\n"
     ]
    },
    {
     "data": {
      "text/plain": [
       "0.7163803126211084"
      ]
     },
     "execution_count": 27,
     "metadata": {},
     "output_type": "execute_result"
    }
   ],
   "source": [
    "grid_search.best_estimator_.score(x_val, y_val)"
   ]
  },
  {
   "cell_type": "code",
   "execution_count": 28,
   "metadata": {},
   "outputs": [],
   "source": [
    "x_test = x_test.drop(['POLICY_END_MONTH', 'POLICY_BEGIN_MONTH'], axis=1)\n",
    "x_test = x_test.drop(['POLICY_SALES_CHANNEL'], axis=1)\n",
    "x_test['POLICY_BRANCH'] = [0 if (x == 'Москва') else 1 for x in x_test['POLICY_BRANCH'].values]\n",
    "x_test['AGE_18-25'] = [1 if (x<25) else 0 for x in x_test['POLICY_MIN_AGE'].values]\n",
    "x_test['AGE_25-40'] = [1 if (x>=25)and(x<=40) else 0 for x in x_test['POLICY_MIN_AGE'].values]\n",
    "x_test['AGE_40-65'] = [1 if (x>=40)and(x<65) else 0 for x in x_test['POLICY_MIN_AGE'].values]\n",
    "x_test['AGE_65+'] = [1 if (x>=65) else 0 for x in x_test['POLICY_MIN_AGE'].values]\n",
    "x_test = x_test.drop(['POLICY_MIN_AGE'], axis=1)\n",
    "x_test['DRV_EXP_0-3'] = [1 if (x<3) else 0 for x in x_test['POLICY_MIN_DRIVING_EXPERIENCE'].values]\n",
    "x_test['DRV_EXP_3-10'] = [1 if (x>=3) & (x<10) else 0 for x in x_test['POLICY_MIN_DRIVING_EXPERIENCE'].values]\n",
    "x_test['DRV_EXP_10-20'] = [1 if (x>=10) & (x<20) else 0 for x in x_test['POLICY_MIN_DRIVING_EXPERIENCE'].values]\n",
    "x_test['DRV_EXP_20+'] = [1 if (x>=20) else 0 for x in x_test['POLICY_MIN_DRIVING_EXPERIENCE'].values]\n",
    "x_test = x_test.drop(['POLICY_MIN_DRIVING_EXPERIENCE'], axis=1)\n",
    "x_test = x_test.drop(['POLICY_INTERMEDIARY'], axis=1)\n",
    "x_test['INSURER_GENDER'] = [0 if (x == 'M') else 1 for x in x_test['INSURER_GENDER'].values]\n",
    "x_test['POLICY_CLM_N'] = ['N' if (x=='n/d') else x for x in x_test['POLICY_CLM_N'].values]\n",
    "x_test['POLICY_CLM_GLT_N'] = ['N' if (x=='n/d') else x for x in x_test['POLICY_CLM_GLT_N'].values]\n",
    "x_test['POLICY_YEARS_RENEWED_N'] = [1 if x=='N' else int(x) for x in x_test['POLICY_YEARS_RENEWED_N'].values]\n",
    "x_test_numeric = min_max_scaler.transform(x_test[numeric_features])\n",
    "x_test_binary = x_test[binary_features]\n",
    "x_test_num_category = one_hot_encoder.transform(x_test[category_num_features])\n",
    "x_test_cat_CLM_N = label_binarizer.transform(x_test['POLICY_CLM_N'])\n",
    "x_test_cat_CLM_GLT_N = label_binarizer.transform(x_test['POLICY_CLM_GLT_N'])\n",
    "x_test_cat_PRV_CLM_N = label_binarizer.transform(x_test['POLICY_PRV_CLM_N'])\n",
    "x_test_cat_PRV_CLM_GLT_N = label_binarizer.transform(x_test['POLICY_PRV_CLM_GLT_N'])\n",
    "x_test_cat_CR_REG = label_binarizer_region.transform(x_test['CLIENT_REGISTRATION_REGION'])\n",
    "x_test_cat_make = label_binarizer_make.transform(x_test['VEHICLE_MAKE'])\n",
    "x_test_cat_model = label_binarizer_model.transform(x_test['VEHICLE_MODEL'])\n",
    "x_test_final = sparse.hstack((x_test_numeric, x_test_binary, x_test_num_category, x_test_cat_CLM_N, \n",
    "                              x_test_cat_CLM_GLT_N, x_test_cat_PRV_CLM_N, \n",
    "                              x_test_cat_PRV_CLM_GLT_N, x_test_cat_CR_REG, x_test_cat_make, x_test_cat_model))"
   ]
  },
  {
   "cell_type": "code",
   "execution_count": 29,
   "metadata": {},
   "outputs": [
    {
     "name": "stderr",
     "output_type": "stream",
     "text": [
      "D:\\Anaconda\\lib\\site-packages\\sklearn\\preprocessing\\label.py:151: DeprecationWarning: The truth value of an empty array is ambiguous. Returning False, but in future this will result in an error. Use `array.size > 0` to check that an array is not empty.\n",
      "  if diff:\n"
     ]
    }
   ],
   "source": [
    "result_probs = grid_search.best_estimator_.predict_proba(x_test_final)\n",
    "result_preds = grid_search.best_estimator_.predict(x_test_final)"
   ]
  },
  {
   "cell_type": "code",
   "execution_count": 30,
   "metadata": {},
   "outputs": [],
   "source": [
    "results_df = pd.DataFrame()\n",
    "results_df['POLICY_ID']=x_test.index\n",
    "results_df['POLICY_IS_RENEWED'] = result_preds\n",
    "results_df['POLICY_IS_RENEWED_PROBABILITY'] = result_probs[:,1]"
   ]
  },
  {
   "cell_type": "code",
   "execution_count": 34,
   "metadata": {},
   "outputs": [
    {
     "data": {
      "text/html": [
       "<div>\n",
       "<style scoped>\n",
       "    .dataframe tbody tr th:only-of-type {\n",
       "        vertical-align: middle;\n",
       "    }\n",
       "\n",
       "    .dataframe tbody tr th {\n",
       "        vertical-align: top;\n",
       "    }\n",
       "\n",
       "    .dataframe thead th {\n",
       "        text-align: right;\n",
       "    }\n",
       "</style>\n",
       "<table border=\"1\" class=\"dataframe\">\n",
       "  <thead>\n",
       "    <tr style=\"text-align: right;\">\n",
       "      <th></th>\n",
       "      <th>POLICY_ID</th>\n",
       "      <th>POLICY_IS_RENEWED</th>\n",
       "      <th>POLICY_IS_RENEWED_PROBABILITY</th>\n",
       "    </tr>\n",
       "  </thead>\n",
       "  <tbody>\n",
       "    <tr>\n",
       "      <th>0</th>\n",
       "      <td>10</td>\n",
       "      <td>1</td>\n",
       "      <td>0.87</td>\n",
       "    </tr>\n",
       "    <tr>\n",
       "      <th>1</th>\n",
       "      <td>12</td>\n",
       "      <td>1</td>\n",
       "      <td>0.75</td>\n",
       "    </tr>\n",
       "    <tr>\n",
       "      <th>2</th>\n",
       "      <td>13</td>\n",
       "      <td>1</td>\n",
       "      <td>0.70</td>\n",
       "    </tr>\n",
       "    <tr>\n",
       "      <th>3</th>\n",
       "      <td>22</td>\n",
       "      <td>0</td>\n",
       "      <td>0.42</td>\n",
       "    </tr>\n",
       "    <tr>\n",
       "      <th>4</th>\n",
       "      <td>37</td>\n",
       "      <td>1</td>\n",
       "      <td>0.78</td>\n",
       "    </tr>\n",
       "    <tr>\n",
       "      <th>5</th>\n",
       "      <td>38</td>\n",
       "      <td>1</td>\n",
       "      <td>0.50</td>\n",
       "    </tr>\n",
       "    <tr>\n",
       "      <th>6</th>\n",
       "      <td>41</td>\n",
       "      <td>0</td>\n",
       "      <td>0.18</td>\n",
       "    </tr>\n",
       "    <tr>\n",
       "      <th>7</th>\n",
       "      <td>44</td>\n",
       "      <td>1</td>\n",
       "      <td>0.61</td>\n",
       "    </tr>\n",
       "    <tr>\n",
       "      <th>8</th>\n",
       "      <td>45</td>\n",
       "      <td>1</td>\n",
       "      <td>0.57</td>\n",
       "    </tr>\n",
       "    <tr>\n",
       "      <th>9</th>\n",
       "      <td>54</td>\n",
       "      <td>1</td>\n",
       "      <td>0.76</td>\n",
       "    </tr>\n",
       "    <tr>\n",
       "      <th>10</th>\n",
       "      <td>62</td>\n",
       "      <td>1</td>\n",
       "      <td>0.54</td>\n",
       "    </tr>\n",
       "    <tr>\n",
       "      <th>11</th>\n",
       "      <td>70</td>\n",
       "      <td>1</td>\n",
       "      <td>0.69</td>\n",
       "    </tr>\n",
       "    <tr>\n",
       "      <th>12</th>\n",
       "      <td>71</td>\n",
       "      <td>0</td>\n",
       "      <td>0.35</td>\n",
       "    </tr>\n",
       "    <tr>\n",
       "      <th>13</th>\n",
       "      <td>73</td>\n",
       "      <td>1</td>\n",
       "      <td>0.59</td>\n",
       "    </tr>\n",
       "    <tr>\n",
       "      <th>14</th>\n",
       "      <td>80</td>\n",
       "      <td>1</td>\n",
       "      <td>0.54</td>\n",
       "    </tr>\n",
       "    <tr>\n",
       "      <th>15</th>\n",
       "      <td>85</td>\n",
       "      <td>1</td>\n",
       "      <td>0.88</td>\n",
       "    </tr>\n",
       "    <tr>\n",
       "      <th>16</th>\n",
       "      <td>87</td>\n",
       "      <td>1</td>\n",
       "      <td>0.73</td>\n",
       "    </tr>\n",
       "    <tr>\n",
       "      <th>17</th>\n",
       "      <td>94</td>\n",
       "      <td>0</td>\n",
       "      <td>0.46</td>\n",
       "    </tr>\n",
       "    <tr>\n",
       "      <th>18</th>\n",
       "      <td>103</td>\n",
       "      <td>0</td>\n",
       "      <td>0.18</td>\n",
       "    </tr>\n",
       "    <tr>\n",
       "      <th>19</th>\n",
       "      <td>108</td>\n",
       "      <td>1</td>\n",
       "      <td>0.72</td>\n",
       "    </tr>\n",
       "  </tbody>\n",
       "</table>\n",
       "</div>"
      ],
      "text/plain": [
       "    POLICY_ID  POLICY_IS_RENEWED  POLICY_IS_RENEWED_PROBABILITY\n",
       "0          10                  1                           0.87\n",
       "1          12                  1                           0.75\n",
       "2          13                  1                           0.70\n",
       "3          22                  0                           0.42\n",
       "4          37                  1                           0.78\n",
       "5          38                  1                           0.50\n",
       "6          41                  0                           0.18\n",
       "7          44                  1                           0.61\n",
       "8          45                  1                           0.57\n",
       "9          54                  1                           0.76\n",
       "10         62                  1                           0.54\n",
       "11         70                  1                           0.69\n",
       "12         71                  0                           0.35\n",
       "13         73                  1                           0.59\n",
       "14         80                  1                           0.54\n",
       "15         85                  1                           0.88\n",
       "16         87                  1                           0.73\n",
       "17         94                  0                           0.46\n",
       "18        103                  0                           0.18\n",
       "19        108                  1                           0.72"
      ]
     },
     "execution_count": 34,
     "metadata": {},
     "output_type": "execute_result"
    }
   ],
   "source": [
    "results_df.head(20)"
   ]
  },
  {
   "cell_type": "code",
   "execution_count": 35,
   "metadata": {},
   "outputs": [],
   "source": [
    "results_df.to_csv('D:/results.csv', sep=',')"
   ]
  },
  {
   "cell_type": "markdown",
   "metadata": {},
   "source": [
    "Полученная в итоге модель - лучшая из всех, с которыми были проведены эксперименты. Улучшить качество теоретически можно при построении модели по сетке с большим числом и разбросом гиперпараметров. Другой способ – изменение качественного и количественного состава участвующих в обучении признаков."
   ]
  }
 ],
 "metadata": {
  "kernelspec": {
   "display_name": "Python 3",
   "language": "python",
   "name": "python3"
  },
  "language_info": {
   "codemirror_mode": {
    "name": "ipython",
    "version": 3
   },
   "file_extension": ".py",
   "mimetype": "text/x-python",
   "name": "python",
   "nbconvert_exporter": "python",
   "pygments_lexer": "ipython3",
   "version": "3.6.5"
  }
 },
 "nbformat": 4,
 "nbformat_minor": 2
}
